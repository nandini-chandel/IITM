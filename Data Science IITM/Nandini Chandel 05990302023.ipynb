{
 "cells": [
  {
   "cell_type": "code",
   "execution_count": null,
   "id": "a3493489-1bf2-4dfd-9e5f-138ecb5df3da",
   "metadata": {},
   "outputs": [],
   "source": [
    "Ans 1: #Main difference between list and tuple is that in a list elements can be added or removed\n",
    "whereas in a tuple we cannot do that\n"
   ]
  },
  {
   "cell_type": "code",
   "execution_count": 13,
   "id": "d48db4f8-ffa2-412a-b8e9-ee83566df320",
   "metadata": {},
   "outputs": [],
   "source": [
    " fruits = ['mango','apple','grapes']\n",
    " fruits = ('mango','apple','grapes')"
   ]
  },
  {
   "cell_type": "code",
   "execution_count": null,
   "id": "9bf3be6e-7854-4cb4-b34a-7bdd21c34326",
   "metadata": {},
   "outputs": [],
   "source": [
    "Ans 4: For loop is used to make a block of code iterate"
   ]
  },
  {
   "cell_type": "code",
   "execution_count": 3,
   "id": "1346487e-7656-4960-9281-ee05f10f4a66",
   "metadata": {},
   "outputs": [
    {
     "name": "stdout",
     "output_type": "stream",
     "text": [
      "1\n",
      "2\n",
      "3\n",
      "4\n",
      "5\n"
     ]
    }
   ],
   "source": [
    "for i in range(1, 6):\n",
    "    print(i)"
   ]
  },
  {
   "cell_type": "code",
   "execution_count": null,
   "id": "4b5dddd7-fe56-4264-9fff-6b3512e427b5",
   "metadata": {},
   "outputs": [],
   "source": [
    "Ans 2:Input() function in Python allows the user to enter input. It always returns string data type.\n"
   ]
  },
  {
   "cell_type": "code",
   "execution_count": null,
   "id": "6dc44e83-77b9-44fe-a5b3-1495dbc62d0b",
   "metadata": {},
   "outputs": [],
   "source": [
    "Ans 3: Python dictionaries are used to store values using key value pairs"
   ]
  },
  {
   "cell_type": "code",
   "execution_count": 16,
   "id": "b5a498a2-7c33-4681-9e0a-9b15a9834013",
   "metadata": {},
   "outputs": [],
   "source": [
    "dict = {\n",
    "    \"name\":\"nandini\",\n",
    "    \"age\":20,\n",
    "    \"states\":[\"haryana\",\"punjab\",\"up\"]\n",
    "}"
   ]
  },
  {
   "cell_type": "code",
   "execution_count": null,
   "id": "825dfd9c-a440-4097-9c58-08d4e590f9a3",
   "metadata": {},
   "outputs": [],
   "source": [
    "Ans 5: Exception Handling makes sure your code is running even when an error occurs. Try is \n",
    "the place where the code which has errors is kept, exception is the block where you handle errors\n",
    "and in the finally block the code runs no matter what"
   ]
  },
  {
   "cell_type": "code",
   "execution_count": 17,
   "id": "d16c2afa-701a-49f5-9ce5-339c439ef233",
   "metadata": {},
   "outputs": [
    {
     "name": "stdout",
     "output_type": "stream",
     "text": [
      "Cannot divide by zero\n",
      "This runs\n"
     ]
    }
   ],
   "source": [
    "try:\n",
    "    print(5/0)\n",
    "except ZeroDivisionError:\n",
    "    print('Cannot divide by zero')\n",
    "finally:\n",
    "    print('This runs')"
   ]
  },
  {
   "cell_type": "code",
   "execution_count": null,
   "id": "73e30fb7-2fdd-40f3-9c16-6839bccb57b6",
   "metadata": {},
   "outputs": [],
   "source": [
    "Ans 6: Python modules contains files which contain reusable codes"
   ]
  },
  {
   "cell_type": "code",
   "execution_count": 27,
   "id": "a68e699f-92e7-4606-bb80-c18bf53a84e3",
   "metadata": {},
   "outputs": [
    {
     "name": "stdout",
     "output_type": "stream",
     "text": [
      "The square root of 25 is: 5.0\n",
      "The area of a circle with radius 5 is: 78.53981633974483\n"
     ]
    }
   ],
   "source": [
    "import math\n",
    "\n",
    "result_sqrt = math.sqrt(25)\n",
    "print(f\"The square root of 25 is: {result_sqrt}\")\n",
    "\n",
    "area_of_circle = math.pi * (5**2)\n",
    "print(f\"The area of a circle with radius 5 is: {area_of_circle}\")"
   ]
  },
  {
   "cell_type": "code",
   "execution_count": null,
   "id": "d1124879-d55f-49d3-9101-2b5029c80ea3",
   "metadata": {},
   "outputs": [],
   "source": [
    "Ans 7: Object oriented programming is a concept in which we use real life classes\n",
    "and objects. Classes are the blueprint for creating objects whereas objects are the\n",
    "instance of class"
   ]
  },
  {
   "cell_type": "code",
   "execution_count": 28,
   "id": "e85e7f84-cd61-40f7-976d-4071078d166d",
   "metadata": {},
   "outputs": [
    {
     "name": "stdout",
     "output_type": "stream",
     "text": [
      "meow\n"
     ]
    }
   ],
   "source": [
    "class Cat:\n",
    "    sound = \"meow\"\n",
    "\n",
    "cat1 = Cat()\n",
    "\n",
    "print(cat1.sound)"
   ]
  },
  {
   "cell_type": "code",
   "execution_count": 22,
   "id": "f54d7120-7342-4a4d-b70b-e333f4d68eca",
   "metadata": {},
   "outputs": [
    {
     "name": "stdin",
     "output_type": "stream",
     "text": [
      "What is your name?  Nandini\n",
      "How old are you?  20\n"
     ]
    },
    {
     "name": "stdout",
     "output_type": "stream",
     "text": [
      "Hello Nandini, you are 20 years old!\n"
     ]
    }
   ],
   "source": [
    "#Ans 10:\n",
    "name = input(\"What is your name? \")\n",
    "age = input(\"How old are you? \")\n",
    "print(f\"Hello {name}, you are {age} years old!\")\n"
   ]
  },
  {
   "cell_type": "code",
   "execution_count": 23,
   "id": "1a616868-b32d-4b33-99df-68d6d065e55c",
   "metadata": {},
   "outputs": [
    {
     "name": "stdout",
     "output_type": "stream",
     "text": [
      "1. Apple\n",
      "2. Banana\n",
      "3. Mango\n",
      "4. Orange\n",
      "5. Grapes\n"
     ]
    }
   ],
   "source": [
    "#Ans 11:\n",
    "fruits = [\"Apple\", \"Banana\", \"Mango\", \"Orange\", \"Grapes\"]\n",
    "\n",
    "for i in range(len(fruits)):\n",
    "    print(f\"{i + 1}. {fruits[i]}\")\n"
   ]
  },
  {
   "cell_type": "code",
   "execution_count": 25,
   "id": "320f9819-cd3e-4c2e-882d-4707bcf9d1b6",
   "metadata": {},
   "outputs": [
    {
     "name": "stdout",
     "output_type": "stream",
     "text": [
      "Score: 95 → Grade: A\n",
      "Score: 72 → Grade: C\n",
      "Score: 50 → Grade: F\n"
     ]
    }
   ],
   "source": [
    "#Ans 12:\n",
    "def grade_calculator(score):\n",
    "    if 90 <= score <= 100:\n",
    "        return \"A\"\n",
    "    elif 80 <= score <= 89:\n",
    "        return \"B\"\n",
    "    elif 70 <= score <= 79:\n",
    "        return \"C\"\n",
    "    elif 60 <= score <= 69:\n",
    "        return \"D\"\n",
    "    elif 0 <= score < 60:\n",
    "        return \"F\"\n",
    "    else:\n",
    "        return \"Invalid score\"\n",
    "\n",
    "print(\"Score: 95 → Grade:\", grade_calculator(95))  \n",
    "print(\"Score: 72 → Grade:\", grade_calculator(72)) \n",
    "print(\"Score: 50 → Grade:\", grade_calculator(50))  \n"
   ]
  },
  {
   "cell_type": "code",
   "execution_count": 26,
   "id": "e681e951-4571-42e9-8a98-ebb06af23190",
   "metadata": {},
   "outputs": [
    {
     "name": "stdout",
     "output_type": "stream",
     "text": [
      "Prime numbers between 1 and 50 are:\n",
      " 2   3   5   7  11  13  17  19  23  29  \n",
      "31  37  41  43  47  "
     ]
    }
   ],
   "source": [
    "#Ans 15:\n",
    "def is_prime(num):\n",
    "    if num < 2:\n",
    "        return False\n",
    "    for i in range(2, int(num ** 0.5) + 1):\n",
    "        if num % i == 0:\n",
    "            return False\n",
    "    return True\n",
    "\n",
    "prime_numbers = []\n",
    "for number in range(1, 51):\n",
    "    if is_prime(number):\n",
    "        prime_numbers.append(number)\n",
    "\n",
    "print(\"Prime numbers between 1 and 50 are:\")\n",
    "for i, prime in enumerate(prime_numbers, 1):\n",
    "    print(f\"{prime:2}\", end=\"  \")\n",
    "    if i % 10 == 0:\n",
    "        print()  \n"
   ]
  }
 ],
 "metadata": {
  "kernelspec": {
   "display_name": "Python [conda env:base] *",
   "language": "python",
   "name": "conda-base-py"
  },
  "language_info": {
   "codemirror_mode": {
    "name": "ipython",
    "version": 3
   },
   "file_extension": ".py",
   "mimetype": "text/x-python",
   "name": "python",
   "nbconvert_exporter": "python",
   "pygments_lexer": "ipython3",
   "version": "3.13.5"
  }
 },
 "nbformat": 4,
 "nbformat_minor": 5
}
